{
 "cells": [
  {
   "cell_type": "code",
   "execution_count": 1,
   "metadata": {},
   "outputs": [],
   "source": [
    "from utils.config import process_config"
   ]
  },
  {
   "cell_type": "code",
   "execution_count": 2,
   "metadata": {},
   "outputs": [],
   "source": [
    "config = process_config(\"configs/gan_mark2.json\")"
   ]
  },
  {
   "cell_type": "code",
   "execution_count": 17,
   "metadata": {},
   "outputs": [
    {
     "data": {
      "text/plain": [
       "'Logs/gan_mark2/summary/image444'"
      ]
     },
     "execution_count": 17,
     "metadata": {},
     "output_type": "execute_result"
    }
   ],
   "source": [
    "config.summary_dir + \"image{}\".format(444)"
   ]
  },
  {
   "cell_type": "code",
   "execution_count": 3,
   "metadata": {},
   "outputs": [],
   "source": [
    "import tensorflow as tf"
   ]
  },
  {
   "cell_type": "code",
   "execution_count": 4,
   "metadata": {},
   "outputs": [],
   "source": [
    "from models.gan_model_mark2 import GAN_mark2\n",
    "import tensorflow.keras as K"
   ]
  },
  {
   "cell_type": "code",
   "execution_count": 5,
   "metadata": {},
   "outputs": [],
   "source": [
    "from utils.data_generator import DataGenerator"
   ]
  },
  {
   "cell_type": "code",
   "execution_count": 6,
   "metadata": {},
   "outputs": [
    {
     "name": "stdout",
     "output_type": "stream",
     "text": [
      "DataLoader: Subsets are already populated.\n",
      "WARNING:tensorflow:From /Users/yigitozgumus/anaconda3/envs/school/lib/python3.6/site-packages/tensorflow/python/ops/control_flow_ops.py:3632: colocate_with (from tensorflow.python.framework.ops) is deprecated and will be removed in a future version.\n",
      "Instructions for updating:\n",
      "Colocations handled automatically by placer.\n"
     ]
    }
   ],
   "source": [
    "data = DataGenerator(config)"
   ]
  },
  {
   "cell_type": "code",
   "execution_count": 7,
   "metadata": {},
   "outputs": [
    {
     "name": "stdout",
     "output_type": "stream",
     "text": [
      "_________________________________________________________________\n",
      "Layer (type)                 Output Shape              Param #   \n",
      "=================================================================\n",
      "dense (Dense)                (None, 6272)              633472    \n",
      "_________________________________________________________________\n",
      "reshape (Reshape)            (None, 7, 7, 128)         0         \n",
      "_________________________________________________________________\n",
      "up_sampling2d (UpSampling2D) (None, 14, 14, 128)       0         \n",
      "_________________________________________________________________\n",
      "conv2d (Conv2D)              (None, 14, 14, 128)       147584    \n",
      "_________________________________________________________________\n",
      "batch_normalization_v1 (Batc (None, 14, 14, 128)       512       \n",
      "_________________________________________________________________\n",
      "activation (Activation)      (None, 14, 14, 128)       0         \n",
      "_________________________________________________________________\n",
      "up_sampling2d_1 (UpSampling2 (None, 28, 28, 128)       0         \n",
      "_________________________________________________________________\n",
      "conv2d_1 (Conv2D)            (None, 28, 28, 64)        73792     \n",
      "_________________________________________________________________\n",
      "batch_normalization_v1_1 (Ba (None, 28, 28, 64)        256       \n",
      "_________________________________________________________________\n",
      "activation_1 (Activation)    (None, 28, 28, 64)        0         \n",
      "_________________________________________________________________\n",
      "conv2d_2 (Conv2D)            (None, 28, 28, 1)         577       \n",
      "_________________________________________________________________\n",
      "activation_2 (Activation)    (None, 28, 28, 1)         0         \n",
      "=================================================================\n",
      "Total params: 856,193\n",
      "Trainable params: 855,809\n",
      "Non-trainable params: 384\n",
      "_________________________________________________________________\n",
      "WARNING:tensorflow:From /Users/yigitozgumus/anaconda3/envs/school/lib/python3.6/site-packages/tensorflow/python/keras/layers/core.py:143: calling dropout (from tensorflow.python.ops.nn_ops) with keep_prob is deprecated and will be removed in a future version.\n",
      "Instructions for updating:\n",
      "Please use `rate` instead of `keep_prob`. Rate should be set to `rate = 1 - keep_prob`.\n",
      "_________________________________________________________________\n",
      "Layer (type)                 Output Shape              Param #   \n",
      "=================================================================\n",
      "conv2d_3 (Conv2D)            (None, 14, 14, 32)        320       \n",
      "_________________________________________________________________\n",
      "leaky_re_lu (LeakyReLU)      (None, 14, 14, 32)        0         \n",
      "_________________________________________________________________\n",
      "dropout (Dropout)            (None, 14, 14, 32)        0         \n",
      "_________________________________________________________________\n",
      "conv2d_4 (Conv2D)            (None, 7, 7, 64)          18496     \n",
      "_________________________________________________________________\n",
      "zero_padding2d (ZeroPadding2 (None, 8, 8, 64)          0         \n",
      "_________________________________________________________________\n",
      "batch_normalization_v1_2 (Ba (None, 8, 8, 64)          256       \n",
      "_________________________________________________________________\n",
      "leaky_re_lu_1 (LeakyReLU)    (None, 8, 8, 64)          0         \n",
      "_________________________________________________________________\n",
      "dropout_1 (Dropout)          (None, 8, 8, 64)          0         \n",
      "_________________________________________________________________\n",
      "conv2d_5 (Conv2D)            (None, 4, 4, 128)         73856     \n",
      "_________________________________________________________________\n",
      "batch_normalization_v1_3 (Ba (None, 4, 4, 128)         512       \n",
      "_________________________________________________________________\n",
      "leaky_re_lu_2 (LeakyReLU)    (None, 4, 4, 128)         0         \n",
      "_________________________________________________________________\n",
      "dropout_2 (Dropout)          (None, 4, 4, 128)         0         \n",
      "_________________________________________________________________\n",
      "conv2d_6 (Conv2D)            (None, 4, 4, 256)         295168    \n",
      "_________________________________________________________________\n",
      "batch_normalization_v1_4 (Ba (None, 4, 4, 256)         1024      \n",
      "_________________________________________________________________\n",
      "leaky_re_lu_3 (LeakyReLU)    (None, 4, 4, 256)         0         \n",
      "_________________________________________________________________\n",
      "dropout_3 (Dropout)          (None, 4, 4, 256)         0         \n",
      "_________________________________________________________________\n",
      "flatten (Flatten)            (None, 4096)              0         \n",
      "_________________________________________________________________\n",
      "dense_1 (Dense)              (None, 1)                 4097      \n",
      "=================================================================\n",
      "Total params: 393,729\n",
      "Trainable params: 392,833\n",
      "Non-trainable params: 896\n",
      "_________________________________________________________________\n",
      "WARNING:tensorflow:From /Users/yigitozgumus/anaconda3/envs/school/lib/python3.6/site-packages/tensorflow/python/ops/losses/losses_impl.py:209: to_float (from tensorflow.python.ops.math_ops) is deprecated and will be removed in a future version.\n",
      "Instructions for updating:\n",
      "Use tf.cast instead.\n"
     ]
    }
   ],
   "source": [
    "model = GAN_mark2(config)"
   ]
  },
  {
   "cell_type": "code",
   "execution_count": 8,
   "metadata": {},
   "outputs": [
    {
     "name": "stdout",
     "output_type": "stream",
     "text": [
      "_________________________________________________________________\n",
      "Layer (type)                 Output Shape              Param #   \n",
      "=================================================================\n",
      "input_1 (InputLayer)         (None, 100)               0         \n",
      "_________________________________________________________________\n",
      "sequential (Sequential)      (None, 28, 28, 1)         856193    \n",
      "=================================================================\n",
      "Total params: 856,193\n",
      "Trainable params: 855,809\n",
      "Non-trainable params: 384\n",
      "_________________________________________________________________\n"
     ]
    }
   ],
   "source": [
    "model.generator.summary()"
   ]
  },
  {
   "cell_type": "code",
   "execution_count": 12,
   "metadata": {},
   "outputs": [],
   "source": [
    "model.generator.trainable=True\n"
   ]
  },
  {
   "cell_type": "code",
   "execution_count": 15,
   "metadata": {},
   "outputs": [
    {
     "ename": "SyntaxError",
     "evalue": "invalid syntax (<ipython-input-15-513a0a59e212>, line 1)",
     "output_type": "error",
     "traceback": [
      "\u001b[0;36m  File \u001b[0;32m\"<ipython-input-15-513a0a59e212>\"\u001b[0;36m, line \u001b[0;32m1\u001b[0m\n\u001b[0;31m    model.generator()?\u001b[0m\n\u001b[0m                     ^\u001b[0m\n\u001b[0;31mSyntaxError\u001b[0m\u001b[0;31m:\u001b[0m invalid syntax\n"
     ]
    }
   ],
   "source": [
    "model.generator()?"
   ]
  },
  {
   "cell_type": "code",
   "execution_count": null,
   "metadata": {},
   "outputs": [],
   "source": [
    "import tensorflow as tf"
   ]
  },
  {
   "cell_type": "code",
   "execution_count": 2,
   "metadata": {},
   "outputs": [],
   "source": [
    "a = tf.constant([1, 2])"
   ]
  },
  {
   "cell_type": "code",
   "execution_count": 3,
   "metadata": {},
   "outputs": [
    {
     "name": "stdout",
     "output_type": "stream",
     "text": [
      "Tensor(\"Const:0\", shape=(2,), dtype=int32)\n"
     ]
    }
   ],
   "source": [
    "print(a)"
   ]
  },
  {
   "cell_type": "code",
   "execution_count": 4,
   "metadata": {},
   "outputs": [],
   "source": [
    "b = tf.constant([4, 5])\n",
    "\n",
    "c = tf.add(a,b)"
   ]
  },
  {
   "cell_type": "code",
   "execution_count": 6,
   "metadata": {},
   "outputs": [
    {
     "name": "stdout",
     "output_type": "stream",
     "text": [
      "Tensor(\"Const:0\", shape=(2,), dtype=int32)\n",
      "[5 7]\n"
     ]
    }
   ],
   "source": [
    "init = tf.global_variables_initializer()\n",
    "print(a)\n",
    "with tf.Session() as sess:\n",
    "    sess.run(init)\n",
    "\n",
    "    print(sess.run(c))\n"
   ]
  },
  {
   "cell_type": "code",
   "execution_count": 18,
   "metadata": {},
   "outputs": [],
   "source": [
    "aa = tf.random_normal([1,2])"
   ]
  },
  {
   "cell_type": "code",
   "execution_count": 22,
   "metadata": {},
   "outputs": [
    {
     "name": "stdout",
     "output_type": "stream",
     "text": [
      "[[ 0.75580955 -0.59670514]]\n"
     ]
    }
   ],
   "source": [
    "init = tf.global_variables_initializer()\n",
    "with tf.Session() as sess:\n",
    "    sess.run(init)\n",
    "\n",
    "    print(sess.run(aa))"
   ]
  },
  {
   "cell_type": "code",
   "execution_count": 40,
   "metadata": {},
   "outputs": [],
   "source": [
    "import numpy as np\n",
    "a = np.asarray([[[[1],[1]],[[2],[2]]]])"
   ]
  },
  {
   "cell_type": "code",
   "execution_count": 42,
   "metadata": {},
   "outputs": [
    {
     "data": {
      "text/plain": [
       "(1, 2, 2, 1)"
      ]
     },
     "execution_count": 42,
     "metadata": {},
     "output_type": "execute_result"
    }
   ],
   "source": [
    "a.shape"
   ]
  },
  {
   "cell_type": "code",
   "execution_count": 38,
   "metadata": {},
   "outputs": [],
   "source": [
    "b  = np.ndarray(shape=[16,28,28,1],buffer=a + 10)"
   ]
  },
  {
   "cell_type": "code",
   "execution_count": 39,
   "metadata": {},
   "outputs": [
    {
     "data": {
      "text/plain": [
       "array([[[[10.],\n",
       "         [10.],\n",
       "         [10.],\n",
       "         ...,\n",
       "         [10.],\n",
       "         [10.],\n",
       "         [10.]],\n",
       "\n",
       "        [[10.],\n",
       "         [10.],\n",
       "         [10.],\n",
       "         ...,\n",
       "         [10.],\n",
       "         [10.],\n",
       "         [10.]],\n",
       "\n",
       "        [[10.],\n",
       "         [10.],\n",
       "         [10.],\n",
       "         ...,\n",
       "         [10.],\n",
       "         [10.],\n",
       "         [10.]],\n",
       "\n",
       "        ...,\n",
       "\n",
       "        [[10.],\n",
       "         [10.],\n",
       "         [10.],\n",
       "         ...,\n",
       "         [10.],\n",
       "         [10.],\n",
       "         [10.]],\n",
       "\n",
       "        [[10.],\n",
       "         [10.],\n",
       "         [10.],\n",
       "         ...,\n",
       "         [10.],\n",
       "         [10.],\n",
       "         [10.]],\n",
       "\n",
       "        [[10.],\n",
       "         [10.],\n",
       "         [10.],\n",
       "         ...,\n",
       "         [10.],\n",
       "         [10.],\n",
       "         [10.]]],\n",
       "\n",
       "\n",
       "       [[[10.],\n",
       "         [10.],\n",
       "         [10.],\n",
       "         ...,\n",
       "         [10.],\n",
       "         [10.],\n",
       "         [10.]],\n",
       "\n",
       "        [[10.],\n",
       "         [10.],\n",
       "         [10.],\n",
       "         ...,\n",
       "         [10.],\n",
       "         [10.],\n",
       "         [10.]],\n",
       "\n",
       "        [[10.],\n",
       "         [10.],\n",
       "         [10.],\n",
       "         ...,\n",
       "         [10.],\n",
       "         [10.],\n",
       "         [10.]],\n",
       "\n",
       "        ...,\n",
       "\n",
       "        [[10.],\n",
       "         [10.],\n",
       "         [10.],\n",
       "         ...,\n",
       "         [10.],\n",
       "         [10.],\n",
       "         [10.]],\n",
       "\n",
       "        [[10.],\n",
       "         [10.],\n",
       "         [10.],\n",
       "         ...,\n",
       "         [10.],\n",
       "         [10.],\n",
       "         [10.]],\n",
       "\n",
       "        [[10.],\n",
       "         [10.],\n",
       "         [10.],\n",
       "         ...,\n",
       "         [10.],\n",
       "         [10.],\n",
       "         [10.]]],\n",
       "\n",
       "\n",
       "       [[[10.],\n",
       "         [10.],\n",
       "         [10.],\n",
       "         ...,\n",
       "         [10.],\n",
       "         [10.],\n",
       "         [10.]],\n",
       "\n",
       "        [[10.],\n",
       "         [10.],\n",
       "         [10.],\n",
       "         ...,\n",
       "         [10.],\n",
       "         [10.],\n",
       "         [10.]],\n",
       "\n",
       "        [[10.],\n",
       "         [10.],\n",
       "         [10.],\n",
       "         ...,\n",
       "         [10.],\n",
       "         [10.],\n",
       "         [10.]],\n",
       "\n",
       "        ...,\n",
       "\n",
       "        [[10.],\n",
       "         [10.],\n",
       "         [10.],\n",
       "         ...,\n",
       "         [10.],\n",
       "         [10.],\n",
       "         [10.]],\n",
       "\n",
       "        [[10.],\n",
       "         [10.],\n",
       "         [10.],\n",
       "         ...,\n",
       "         [10.],\n",
       "         [10.],\n",
       "         [10.]],\n",
       "\n",
       "        [[10.],\n",
       "         [10.],\n",
       "         [10.],\n",
       "         ...,\n",
       "         [10.],\n",
       "         [10.],\n",
       "         [10.]]],\n",
       "\n",
       "\n",
       "       ...,\n",
       "\n",
       "\n",
       "       [[[10.],\n",
       "         [10.],\n",
       "         [10.],\n",
       "         ...,\n",
       "         [10.],\n",
       "         [10.],\n",
       "         [10.]],\n",
       "\n",
       "        [[10.],\n",
       "         [10.],\n",
       "         [10.],\n",
       "         ...,\n",
       "         [10.],\n",
       "         [10.],\n",
       "         [10.]],\n",
       "\n",
       "        [[10.],\n",
       "         [10.],\n",
       "         [10.],\n",
       "         ...,\n",
       "         [10.],\n",
       "         [10.],\n",
       "         [10.]],\n",
       "\n",
       "        ...,\n",
       "\n",
       "        [[10.],\n",
       "         [10.],\n",
       "         [10.],\n",
       "         ...,\n",
       "         [10.],\n",
       "         [10.],\n",
       "         [10.]],\n",
       "\n",
       "        [[10.],\n",
       "         [10.],\n",
       "         [10.],\n",
       "         ...,\n",
       "         [10.],\n",
       "         [10.],\n",
       "         [10.]],\n",
       "\n",
       "        [[10.],\n",
       "         [10.],\n",
       "         [10.],\n",
       "         ...,\n",
       "         [10.],\n",
       "         [10.],\n",
       "         [10.]]],\n",
       "\n",
       "\n",
       "       [[[10.],\n",
       "         [10.],\n",
       "         [10.],\n",
       "         ...,\n",
       "         [10.],\n",
       "         [10.],\n",
       "         [10.]],\n",
       "\n",
       "        [[10.],\n",
       "         [10.],\n",
       "         [10.],\n",
       "         ...,\n",
       "         [10.],\n",
       "         [10.],\n",
       "         [10.]],\n",
       "\n",
       "        [[10.],\n",
       "         [10.],\n",
       "         [10.],\n",
       "         ...,\n",
       "         [10.],\n",
       "         [10.],\n",
       "         [10.]],\n",
       "\n",
       "        ...,\n",
       "\n",
       "        [[10.],\n",
       "         [10.],\n",
       "         [10.],\n",
       "         ...,\n",
       "         [10.],\n",
       "         [10.],\n",
       "         [10.]],\n",
       "\n",
       "        [[10.],\n",
       "         [10.],\n",
       "         [10.],\n",
       "         ...,\n",
       "         [10.],\n",
       "         [10.],\n",
       "         [10.]],\n",
       "\n",
       "        [[10.],\n",
       "         [10.],\n",
       "         [10.],\n",
       "         ...,\n",
       "         [10.],\n",
       "         [10.],\n",
       "         [10.]]],\n",
       "\n",
       "\n",
       "       [[[10.],\n",
       "         [10.],\n",
       "         [10.],\n",
       "         ...,\n",
       "         [10.],\n",
       "         [10.],\n",
       "         [10.]],\n",
       "\n",
       "        [[10.],\n",
       "         [10.],\n",
       "         [10.],\n",
       "         ...,\n",
       "         [10.],\n",
       "         [10.],\n",
       "         [10.]],\n",
       "\n",
       "        [[10.],\n",
       "         [10.],\n",
       "         [10.],\n",
       "         ...,\n",
       "         [10.],\n",
       "         [10.],\n",
       "         [10.]],\n",
       "\n",
       "        ...,\n",
       "\n",
       "        [[10.],\n",
       "         [10.],\n",
       "         [10.],\n",
       "         ...,\n",
       "         [10.],\n",
       "         [10.],\n",
       "         [10.]],\n",
       "\n",
       "        [[10.],\n",
       "         [10.],\n",
       "         [10.],\n",
       "         ...,\n",
       "         [10.],\n",
       "         [10.],\n",
       "         [10.]],\n",
       "\n",
       "        [[10.],\n",
       "         [10.],\n",
       "         [10.],\n",
       "         ...,\n",
       "         [10.],\n",
       "         [10.],\n",
       "         [10.]]]])"
      ]
     },
     "execution_count": 39,
     "metadata": {},
     "output_type": "execute_result"
    }
   ],
   "source": [
    "b"
   ]
  },
  {
   "cell_type": "code",
   "execution_count": null,
   "metadata": {},
   "outputs": [],
   "source": []
  }
 ],
 "metadata": {
  "kernelspec": {
   "display_name": "Python 3",
   "language": "python",
   "name": "python3"
  },
  "language_info": {
   "codemirror_mode": {
    "name": "ipython",
    "version": 3
   },
   "file_extension": ".py",
   "mimetype": "text/x-python",
   "name": "python",
   "nbconvert_exporter": "python",
   "pygments_lexer": "ipython3",
   "version": "3.6.8"
  }
 },
 "nbformat": 4,
 "nbformat_minor": 2
}
